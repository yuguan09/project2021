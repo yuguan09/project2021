{
 "cells": [
  {
   "cell_type": "code",
   "execution_count": 1,
   "metadata": {},
   "outputs": [],
   "source": [
    "import numpy as np\n"
   ]
  },
  {
   "cell_type": "code",
   "execution_count": 4,
   "metadata": {},
   "outputs": [
    {
     "name": "stdout",
     "output_type": "stream",
     "text": [
      "[[0. 0. 0.]\n",
      " [0. 0. 0.]\n",
      " [0. 0. 0.]]\n"
     ]
    }
   ],
   "source": [
    "list1=[-1,1]\n",
    "\n",
    "mermin=np.zeros([3,3])\n",
    "print(mermin)"
   ]
  },
  {
   "cell_type": "markdown",
   "metadata": {},
   "source": [
    "# Merminの魔法陣\n",
    "\n",
    "$$\n",
    " \\begin{bmatrix}\n",
    "   I\\otimes\\sigma_{z} & \\sigma_{z}\\otimes I & \\sigma_{z}\\otimes\\sigma_{z} \\\\\n",
    "   \\sigma_{x}\\otimes I & I\\otimes\\sigma_{x} & \\sigma_{x}\\otimes\\sigma_{x} \\\\\n",
    "   \\sigma_{x}\\otimes\\sigma_{z} & \\sigma_{z}\\otimes\\sigma_{z} & \\sigma_{y}\\otimes\\sigma_{y}\n",
    "  \\end{bmatrix} \\tag{4}\n",
    "$$\n",
    "\n",
    "\n",
    "に対して、パウリ行列の測定値は二値なので、"
   ]
  },
  {
   "cell_type": "code",
   "execution_count": 7,
   "metadata": {},
   "outputs": [
    {
     "name": "stdout",
     "output_type": "stream",
     "text": [
      "[[1. 1. 1.]\n",
      " [1. 1. 1.]\n",
      " [1. 1. 1.]]\n",
      "This is invalid\n",
      "\n",
      "\n",
      "[[-1. -1.  1.]\n",
      " [ 1.  1.  1.]\n",
      " [-1. -1.  1.]]\n",
      "This is invalid\n",
      "\n",
      "\n",
      "[[1. 1. 1.]\n",
      " [1. 1. 1.]\n",
      " [1. 1. 1.]]\n",
      "This is invalid\n",
      "\n",
      "\n",
      "[[-1. -1.  1.]\n",
      " [ 1.  1.  1.]\n",
      " [-1. -1.  1.]]\n",
      "This is invalid\n",
      "\n",
      "\n",
      "[[ 1.  1.  1.]\n",
      " [-1. -1.  1.]\n",
      " [-1. -1.  1.]]\n",
      "This is invalid\n",
      "\n",
      "\n",
      "[[-1. -1.  1.]\n",
      " [-1. -1.  1.]\n",
      " [ 1.  1.  1.]]\n",
      "This is invalid\n",
      "\n",
      "\n",
      "[[ 1.  1.  1.]\n",
      " [-1. -1.  1.]\n",
      " [-1. -1.  1.]]\n",
      "This is invalid\n",
      "\n",
      "\n",
      "[[-1. -1.  1.]\n",
      " [-1. -1.  1.]\n",
      " [ 1.  1.  1.]]\n",
      "This is invalid\n",
      "\n",
      "\n",
      "[[-1. -1.  1.]\n",
      " [-1. -1.  1.]\n",
      " [ 1.  1.  1.]]\n",
      "This is invalid\n",
      "\n",
      "\n",
      "[[ 1.  1.  1.]\n",
      " [-1. -1.  1.]\n",
      " [-1. -1.  1.]]\n",
      "This is invalid\n",
      "\n",
      "\n",
      "[[-1. -1.  1.]\n",
      " [-1. -1.  1.]\n",
      " [ 1.  1.  1.]]\n",
      "This is invalid\n",
      "\n",
      "\n",
      "[[ 1.  1.  1.]\n",
      " [-1. -1.  1.]\n",
      " [-1. -1.  1.]]\n",
      "This is invalid\n",
      "\n",
      "\n",
      "[[-1. -1.  1.]\n",
      " [ 1.  1.  1.]\n",
      " [-1. -1.  1.]]\n",
      "This is invalid\n",
      "\n",
      "\n",
      "[[1. 1. 1.]\n",
      " [1. 1. 1.]\n",
      " [1. 1. 1.]]\n",
      "This is invalid\n",
      "\n",
      "\n",
      "[[-1. -1.  1.]\n",
      " [ 1.  1.  1.]\n",
      " [-1. -1.  1.]]\n",
      "This is invalid\n",
      "\n",
      "\n",
      "[[1. 1. 1.]\n",
      " [1. 1. 1.]\n",
      " [1. 1. 1.]]\n",
      "This is invalid\n",
      "\n",
      "\n"
     ]
    }
   ],
   "source": [
    "for pauli0 in list1:\n",
    "    for paulix in list1:\n",
    "        for pauliy in list1:\n",
    "            for pauliz in list1:\n",
    "                mermin[0][0]=pauli0*pauliz\n",
    "                mermin[0][1]=pauliz*pauli0\n",
    "                mermin[0][2]=pauliz*pauliz\n",
    "                mermin[1][0]=paulix*pauli0\n",
    "                mermin[1][1]=pauli0*paulix\n",
    "                mermin[1][2]=paulix*paulix\n",
    "                mermin[2][0]=paulix*pauliz\n",
    "                mermin[2][1]=pauliz*paulix\n",
    "                mermin[2][2]=pauliy*pauliy\n",
    "                print(mermin)\n",
    "                #print('\\n')\n",
    "                if(mermin[2][2]==-(mermin[0][2]*mermin[1][2])):\n",
    "                    print(\"This is valid\")\n",
    "                else:\n",
    "                    print(\"This is invalid\")\n",
    "                print('\\n')\n",
    "            "
   ]
  }
 ],
 "metadata": {
  "kernelspec": {
   "display_name": "Python 3",
   "language": "python",
   "name": "python3"
  },
  "language_info": {
   "codemirror_mode": {
    "name": "ipython",
    "version": 3
   },
   "file_extension": ".py",
   "mimetype": "text/x-python",
   "name": "python",
   "nbconvert_exporter": "python",
   "pygments_lexer": "ipython3",
   "version": "3.9.0"
  }
 },
 "nbformat": 4,
 "nbformat_minor": 4
}

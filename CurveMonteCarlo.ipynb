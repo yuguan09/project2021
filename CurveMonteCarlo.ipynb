{
 "cells": [
  {
   "cell_type": "code",
   "execution_count": 107,
   "metadata": {},
   "outputs": [],
   "source": [
    "import numpy as np\n",
    "import random\n",
    "\n",
    "N=100"
   ]
  },
  {
   "cell_type": "code",
   "execution_count": 108,
   "metadata": {},
   "outputs": [
    {
     "name": "stdout",
     "output_type": "stream",
     "text": [
      "[0.52972422 1.48593736 1.88932248 1.485514   1.1496655  1.43228124\n",
      " 1.1947204  0.93612455 0.56701137 1.68710595 0.93157175 0.23047837\n",
      " 0.5420327  1.49039058 1.05589586 1.83507094 0.89413278 0.45020412\n",
      " 0.39443594 0.27772677 0.02839952 1.04492969 1.53616593 1.40287736\n",
      " 0.00488694 1.43470356 1.36603168 1.30491353 1.85189235 0.2466567\n",
      " 1.51896775 1.19377427 0.25208768 1.16720626 1.22905239 0.79726149\n",
      " 0.63919796 0.83307695 1.61227638 0.36847618 1.94893231 0.09054961\n",
      " 1.50962423 1.7479401  0.44844501 1.54245285 0.32295806 1.20652969\n",
      " 1.84010757 0.322473   0.92942132 0.26803773 1.58058755 1.98285116\n",
      " 0.36919949 0.06920111 1.78078576 0.33693675 0.03227944 1.92549638\n",
      " 1.97397534 1.16128759 0.74847642 0.61605701 1.22353341 1.27403112\n",
      " 1.98908784 1.93850129 0.88970336 0.99753086 1.20426684 0.69873807\n",
      " 1.74624405 0.44935635 1.39932868 1.83816981 0.86134365 1.39831411\n",
      " 1.47770356 1.98744026 0.65705151 1.65883509 0.32081556 0.52788603\n",
      " 0.9038302  1.46457963 0.04094835 1.16825778 1.15952037 0.98652196\n",
      " 0.17293221 0.51735445 0.21813084 0.4830774  1.453513   1.50581305\n",
      " 0.80013454 1.8853739  1.53275442 0.98947613]\n"
     ]
    }
   ],
   "source": [
    "E=np.zeros(N,dtype='float64')\n",
    "for i in range(0,N):\n",
    "    E[i]=random.uniform(0,2)\n",
    "print(E)"
   ]
  },
  {
   "cell_type": "code",
   "execution_count": 109,
   "metadata": {},
   "outputs": [
    {
     "name": "stdout",
     "output_type": "stream",
     "text": [
      "24.714814122867356\n"
     ]
    }
   ],
   "source": [
    "int=np.zeros(N,dtype='float64')\n",
    "sum=0\n",
    "for i in range(0,10):\n",
    "    int[i]=2*E[i]\n",
    "    sum+=int[i]\n",
    "    \n",
    "print(sum)"
   ]
  },
  {
   "cell_type": "code",
   "execution_count": 110,
   "metadata": {},
   "outputs": [
    {
     "name": "stdout",
     "output_type": "stream",
     "text": [
      "2.4714814122867357\n"
     ]
    }
   ],
   "source": [
    "ave=sum/10\n",
    "print(ave)"
   ]
  },
  {
   "cell_type": "code",
   "execution_count": 111,
   "metadata": {},
   "outputs": [
    {
     "name": "stdout",
     "output_type": "stream",
     "text": [
      "0.02493204552713697\n"
     ]
    }
   ],
   "source": [
    "def variance(N,I):\n",
    "    sum=0\n",
    "    for i in range(0,N):\n",
    "        sum+=I[i]**2\n",
    "    avg1=sum/N\n",
    "    sum1=0\n",
    "    for i in range(0,N):\n",
    "        sum1+=I[i]\n",
    "    avg2=(sum1/N)**2\n",
    "    return (4/N)*(avg1-avg2)\n",
    "\n",
    "print(variance(N,int))\n",
    "    "
   ]
  },
  {
   "cell_type": "code",
   "execution_count": null,
   "metadata": {},
   "outputs": [],
   "source": []
  }
 ],
 "metadata": {
  "kernelspec": {
   "display_name": "Python 3",
   "language": "python",
   "name": "python3"
  },
  "language_info": {
   "codemirror_mode": {
    "name": "ipython",
    "version": 3
   },
   "file_extension": ".py",
   "mimetype": "text/x-python",
   "name": "python",
   "nbconvert_exporter": "python",
   "pygments_lexer": "ipython3",
   "version": "3.9.0"
  }
 },
 "nbformat": 4,
 "nbformat_minor": 2
}

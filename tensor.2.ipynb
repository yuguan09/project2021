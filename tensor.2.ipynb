{
 "cells": [
  {
   "cell_type": "code",
   "execution_count": 2,
   "metadata": {},
   "outputs": [
    {
     "name": "stdout",
     "output_type": "stream",
     "text": [
      "状態１は\n",
      "[0.9428247  0.33328905]\n",
      "状態2は\n",
      "[0.54873968 0.83599328]\n",
      "合成系の状態は\n",
      "[0.51736532 0.78819511 0.18288893 0.27862741]\n",
      "1.0\n",
      "1.0\n",
      "0.9999999999999999\n"
     ]
    }
   ],
   "source": [
    "import numpy as np\n",
    "from numpy import linalg as LA\n",
    "import math \n",
    "import random\n",
    "\n",
    "\n",
    "#任意次元のベクトルを生成する関数\n",
    "#nは生成したい次元\n",
    "def qubit(n):\n",
    "    \n",
    "    e=np.zeros(n,dtype='float64')\n",
    "    \n",
    "    e[0]=random.random()\n",
    "    unf=1-e[0]\n",
    "    \n",
    "    for i in range(1,n-1):\n",
    "        e[i]=random.uniform(0,unf)\n",
    "        unf=unf-e[i]\n",
    "    e[n-1]=unf\n",
    "    \n",
    "    return e\n",
    "\n",
    "\n",
    "#ランダムなベクトルを規格化し、状態ベクトルになる．\n",
    "def normal(e):\n",
    "    n=e.size      #配列の次元を確認する関数\n",
    "    \n",
    "    E=np.zeros(n,dtype='float64')\n",
    "    \n",
    "    for i in range(0,n):\n",
    "        E[i]=np.sqrt(e[i])\n",
    "    return E\n",
    "\n",
    "\n",
    "#ベクトルの間のテンソル積\n",
    "def tensor(a,b):\n",
    "    n1=a.size\n",
    "    n2=b.size\n",
    "    \n",
    "    P=np.zeros(n1*n2,dtype='float64')\n",
    "    for i in range(0,n1):\n",
    "        for j in range(0,n2):\n",
    "            P[i*n2+j]=a[i]*b[j]\n",
    "    return P\n",
    "\n",
    "#xはn1次元のベクトル、yはn2次元のベクトルとおく、zの次元はn1*n2である\n",
    "x=normal(qubit(2))\n",
    "y=normal(qubit(2))\n",
    "z=tensor(x,y)\n",
    "\n",
    "print('状態１は')\n",
    "print(x)\n",
    "print('状態2は')\n",
    "print(y)\n",
    "print('合成系の状態は')\n",
    "print(z)\n",
    "\n",
    "\n",
    "#ノルムの確認\n",
    "\n",
    "print(LA.norm(x,2))\n",
    "\n",
    "print(LA.norm(y,2))\n",
    "\n",
    "print(LA.norm(z,2))"
   ]
  },
  {
   "cell_type": "markdown",
   "metadata": {},
   "source": [
    "# 純粋状態の密度演算子\n",
    "\n",
    "\\begin{equation}\n",
    "\\rho_{1}=|n1\\rangle\\langle n1|,\\rho_{2}=|n2\\rangle\\langle n2|,\n",
    "\\end{equation}\n",
    "\n",
    "\n",
    "合成系の密度演算子は\n",
    "\n",
    "\\begin{equation}\n",
    "\\rho=|n1\\otimes n2\\rangle\\langle n1\\otimes n2|\n",
    "\\end{equation}\n"
   ]
  },
  {
   "cell_type": "code",
   "execution_count": 6,
   "metadata": {},
   "outputs": [
    {
     "name": "stdout",
     "output_type": "stream",
     "text": [
      "0.9999999999999998\n",
      "[0.51736532 0.78819511 0.18288893 0.27862741]\n"
     ]
    }
   ],
   "source": [
    "rho=np.dot(z,z.T)\n",
    "print(rho)\n",
    "print(z.T)"
   ]
  },
  {
   "cell_type": "code",
   "execution_count": 7,
   "metadata": {},
   "outputs": [
    {
     "name": "stdout",
     "output_type": "stream",
     "text": [
      "[0.51736532 0.78819511 0.18288893 0.27862741]\n"
     ]
    }
   ],
   "source": [
    "print(z.T)"
   ]
  },
  {
   "cell_type": "code",
   "execution_count": 8,
   "metadata": {},
   "outputs": [
    {
     "name": "stdout",
     "output_type": "stream",
     "text": [
      "[[0.26766688 0.40778482 0.09462039 0.14415216]\n",
      " [0.40778482 0.62125153 0.14415216 0.21961276]\n",
      " [0.09462039 0.14415216 0.03344836 0.05095787]\n",
      " [0.14415216 0.21961276 0.05095787 0.07763323]]\n",
      "0.9999999999999998\n"
     ]
    }
   ],
   "source": [
    "\n",
    "#密度演算子を生成する関数\n",
    "def density(a):\n",
    "    dimension=a.size\n",
    "    \n",
    "    b=np.zeros([dimension,dimension],dtype='float64')\n",
    "    for i in range(0,dimension):\n",
    "        for j in range(0,dimension):\n",
    "            b[i][j]=a[i]*a[j]\n",
    "            \n",
    "    return b\n",
    "\n",
    "\n",
    "#トレースを計算する関数\n",
    "def trace(a):\n",
    "    sum=0;\n",
    "    n=a[0].size\n",
    "    for i in range(0,n):\n",
    "        sum+=a[i][i]\n",
    "    \n",
    "    return sum\n",
    "        \n",
    "\n",
    "rho=density(z)\n",
    "print(rho)\n",
    "print(trace(rho))"
   ]
  },
  {
   "cell_type": "code",
   "execution_count": 10,
   "metadata": {},
   "outputs": [
    {
     "name": "stdout",
     "output_type": "stream",
     "text": [
      "[[1. 0.]\n",
      " [0. 0.]]\n"
     ]
    }
   ],
   "source": [
    "m1=np.array([1,0])\n",
    "m2=np.array([0,1])\n",
    "print(density(m1))"
   ]
  },
  {
   "cell_type": "markdown",
   "metadata": {},
   "source": [
    "# 計算基底における同時測定\n",
    "\n",
    "\n",
    "計算基底について、\n",
    "\n",
    "\\begin{equation}\n",
    "|00\\rangle,  |01\\rangle,  |10\\rangle,  |11\\rangle\n",
    "\\end{equation}"
   ]
  },
  {
   "cell_type": "code",
   "execution_count": 180,
   "metadata": {},
   "outputs": [
    {
     "name": "stdout",
     "output_type": "stream",
     "text": [
      "[0. 1. 0. 0.]\n"
     ]
    }
   ],
   "source": [
    "print(tensor(m1,m2))"
   ]
  },
  {
   "cell_type": "code",
   "execution_count": 185,
   "metadata": {},
   "outputs": [
    {
     "name": "stdout",
     "output_type": "stream",
     "text": [
      "0.5444983619682794 0.16483890869705195 0.22311724838525626 0.06754548094941248\n",
      "1.0\n"
     ]
    }
   ],
   "source": [
    "#00 ketの確率を計算する\n",
    "\n",
    "m=tensor(m1,m2)\n",
    "\n",
    "def prob(base,state):\n",
    "    z=np.dot(base,state)\n",
    "    return math.pow(z,2)\n",
    "\n",
    "\n",
    "#zは合成系の状態ベクトルである\n",
    "prob1=prob(tensor(m1,m1),z)\n",
    "prob2=prob(tensor(m1,m2),z)\n",
    "prob3=prob(tensor(m2,m1),z)\n",
    "prob4=prob(tensor(m2,m2),z)\n",
    "\n",
    "print(prob1,prob2,prob3,prob4)\n",
    "print(prob1+prob2+prob3+prob4)\n",
    "\n",
    "#print(prob(m,z))"
   ]
  },
  {
   "cell_type": "markdown",
   "metadata": {},
   "source": [
    "# 計算基底における部分測定"
   ]
  },
  {
   "cell_type": "code",
   "execution_count": 186,
   "metadata": {},
   "outputs": [
    {
     "name": "stdout",
     "output_type": "stream",
     "text": [
      "0.8422216279966522\n"
     ]
    }
   ],
   "source": [
    "print(np.dot(m1,x))"
   ]
  },
  {
   "cell_type": "code",
   "execution_count": 187,
   "metadata": {},
   "outputs": [
    {
     "name": "stdout",
     "output_type": "stream",
     "text": [
      "[0.73790132 0.40600358]\n",
      "0.7093372706653315\n"
     ]
    }
   ],
   "source": [
    "parcial1=np.dot(m1,x)*y\n",
    "\n",
    "print(parcial1)\n",
    "print(math.pow(LA.norm(parcial1,2),2))"
   ]
  },
  {
   "cell_type": "markdown",
   "metadata": {},
   "source": [
    "# 密度演算子による部分測定"
   ]
  },
  {
   "cell_type": "code",
   "execution_count": 196,
   "metadata": {},
   "outputs": [
    {
     "name": "stdout",
     "output_type": "stream",
     "text": [
      "0.7093372706653313\n"
     ]
    }
   ],
   "source": [
    "rho_m=trace(density(y))\n",
    "print(trace(rho_m*density(x)*density(m1)))"
   ]
  },
  {
   "cell_type": "markdown",
   "metadata": {},
   "source": [
    "# 密度演算子による同時測定\n",
    "\n",
    "\n",
    "状態$\\rho$の下での同時測定は\n",
    "\n",
    "\\begin{equation}\n",
    "    Pr(E=m,F=n | \\rho)=Tr(\\rho E_{m}\\otimes F_{n})\n",
    "\\end{equation}"
   ]
  },
  {
   "cell_type": "code",
   "execution_count": null,
   "metadata": {},
   "outputs": [],
   "source": [
    "#行列式同士のテンソルを作る関数\n",
    "#P135\n",
    "\n",
    "#n1=a.size\n",
    " #   n2=math.pow(n2,2)\n",
    "    \n",
    " #   e=np.zeros([n2,n2],dtype='float64')\n",
    "    \n",
    "  #  for i in range(0,n1):\n",
    "   #     for j in range(0,n1):\n",
    "            \n",
    "    "
   ]
  },
  {
   "cell_type": "code",
   "execution_count": 9,
   "metadata": {},
   "outputs": [
    {
     "name": "stdout",
     "output_type": "stream",
     "text": [
      "[0.9428247  0.33328905]\n",
      "1.0\n",
      "[[0.88891841 0.31423315]\n",
      " [0.31423315 0.11108159]]\n"
     ]
    }
   ],
   "source": [
    "print(x)\n",
    "print(LA.norm(x,2))\n",
    "rho1=density(x)\n",
    "print(rho1)\n"
   ]
  },
  {
   "cell_type": "code",
   "execution_count": 11,
   "metadata": {},
   "outputs": [
    {
     "name": "stdout",
     "output_type": "stream",
     "text": [
      "[[0.4 0. ]\n",
      " [0.  0. ]]\n"
     ]
    }
   ],
   "source": [
    "E1=0.4*density(m1)\n",
    "print(E1)"
   ]
  },
  {
   "cell_type": "code",
   "execution_count": 14,
   "metadata": {},
   "outputs": [
    {
     "name": "stdout",
     "output_type": "stream",
     "text": [
      "[[0.2 0.2]\n",
      " [0.2 0.2]]\n"
     ]
    }
   ],
   "source": [
    "E2=0.4*density(np.array([1/np.sqrt(2),1/np.sqrt(2)]))\n",
    "print(E2)"
   ]
  },
  {
   "cell_type": "code",
   "execution_count": 16,
   "metadata": {},
   "outputs": [
    {
     "name": "stdout",
     "output_type": "stream",
     "text": [
      "[[ 0.4 -0.2]\n",
      " [-0.2  0.8]]\n"
     ]
    }
   ],
   "source": [
    "E3=np.array([[1,0],[0,1]])-E2-E1\n",
    "print(E3)"
   ]
  },
  {
   "cell_type": "code",
   "execution_count": 20,
   "metadata": {},
   "outputs": [
    {
     "name": "stdout",
     "output_type": "stream",
     "text": [
      "0.35556736235065745\n",
      "0.32569326064375625 0.31873937700558636\n",
      "1.0\n"
     ]
    }
   ],
   "source": [
    "probi1=trace(np.dot(rho1,E1))\n",
    "print(probi1)\n",
    "probi2=trace(np.dot(rho1,E2))\n",
    "probi3=trace(np.dot(rho1,E3))\n",
    "print(probi2,probi3)\n",
    "print(probi1+probi2+probi3)"
   ]
  }
 ],
 "metadata": {
  "kernelspec": {
   "display_name": "Python 3",
   "language": "python",
   "name": "python3"
  },
  "language_info": {
   "codemirror_mode": {
    "name": "ipython",
    "version": 3
   },
   "file_extension": ".py",
   "mimetype": "text/x-python",
   "name": "python",
   "nbconvert_exporter": "python",
   "pygments_lexer": "ipython3",
   "version": "3.9.0"
  }
 },
 "nbformat": 4,
 "nbformat_minor": 4
}

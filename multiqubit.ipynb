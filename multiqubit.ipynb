{
 "cells": [
  {
   "cell_type": "markdown",
   "metadata": {},
   "source": []
  },
  {
   "cell_type": "code",
   "execution_count": 40,
   "metadata": {},
   "outputs": [
    {
     "name": "stdout",
     "output_type": "stream",
     "text": [
      "[[0.85409661]\n",
      " [0.52011439]]\n",
      "[[0.31931557]\n",
      " [0.94764844]]\n",
      "[0.27272634]\n",
      "0.8540966129706168 0.5201143871420213\n"
     ]
    }
   ],
   "source": [
    "import numpy as np\n",
    "import math \n",
    "import random\n",
    "\n",
    "\n",
    "def qubit():\n",
    "    a=random.random()\n",
    "    b=1-a\n",
    "    c=math.sqrt(a)\n",
    "    d=math.sqrt(b)\n",
    "    e=np.array([[c],[d]])\n",
    "    return(e)\n",
    "\n",
    "a=qubit()\n",
    "b=qubit()\n",
    "\n",
    "print(a)\n",
    "print(b)\n",
    "\n",
    "print(a[0]*b[0])\n",
    "print(a[0][0],a[1][0])"
   ]
  },
  {
   "cell_type": "code",
   "execution_count": 41,
   "metadata": {},
   "outputs": [
    {
     "name": "stdout",
     "output_type": "stream",
     "text": [
      "[[0.27272634]\n",
      " [0.80938332]\n",
      " [0.16608062]\n",
      " [0.49288559]]\n"
     ]
    }
   ],
   "source": [
    "from numpy import linalg as LA\n",
    "\n",
    "def multi(a,b):\n",
    "    c=np.array([[a[0][0]*b[0][0]],[a[0][0]*b[1][0]],[a[1][0]*b[0][0]],[a[1][0]*b[1][0]]])\n",
    "    return c\n",
    "\n",
    "product=multi(a,b)\n",
    "print(product)\n",
    "#print(pow(product[0],2)+pow(product[1],2)+pow(product[2],2)+pow(product[3],2)) \n",
    "#print(product[0],product[1],product[2],product[3])"
   ]
  },
  {
   "cell_type": "code",
   "execution_count": 42,
   "metadata": {},
   "outputs": [
    {
     "name": "stdout",
     "output_type": "stream",
     "text": [
      "[[0.07437966 0.22074015 0.04529456 0.13442288]\n",
      " [0.22074015 0.65510137 0.13442288 0.39893338]\n",
      " [0.04529456 0.13442288 0.02758277 0.08185874]\n",
      " [0.13442288 0.39893338 0.08185874 0.2429362 ]]\n"
     ]
    }
   ],
   "source": [
    "rho=product*product.T\n",
    "print(rho)"
   ]
  },
  {
   "cell_type": "markdown",
   "metadata": {},
   "source": [
    "When POVM element  $E_{1}:=0.4 |0 \\rangle\\langle 0|$\n",
    "\n",
    "$E_{1}=\\left(\\begin{array}{cc} \n",
    "    0.4  & 0\\\\ \n",
    "    0&0\n",
    "\\end{array}\\right)$\n",
    "\n",
    "$E_{2}:=0.4 |+ \\rangle\\langle +|$\n",
    "\n",
    "$E_{2}=\\left(\\begin{array}{cc} \n",
    "    \\frac{1}{2}  &\\frac{1}{2}\\\\ \n",
    "    \\frac{1}{2}&\\frac{1}{2}\n",
    "\\end{array}\\right)$\n",
    "\n",
    "\n",
    "$E_{1}\\otimes E_{2}=E_{m}$とおくと\n",
    "\n",
    "$E_{m}=\\left(\\begin{array}{cccc} \n",
    "    \\frac{1}{5}  &\\frac{1}{5}&0&0\\\\ \n",
    "    \\frac{1}{5}&\\frac{1}{5}&0&0\\\\\n",
    "    0&0&0&0\\\\\n",
    "    0&0&0&0\n",
    "\\end{array}\\right)$"
   ]
  },
  {
   "cell_type": "code",
   "execution_count": 43,
   "metadata": {},
   "outputs": [
    {
     "name": "stdout",
     "output_type": "stream",
     "text": [
      "[[0.2 0.2 0.  0. ]\n",
      " [0.2 0.2 0.  0. ]\n",
      " [0.  0.  0.  0. ]\n",
      " [0.  0.  0.  0. ]]\n",
      "0.2\n"
     ]
    }
   ],
   "source": [
    "Em=np.array([[0.2,0.2,0,0],[0.2,0.2,0,0],[0,0,0,0],[0,0,0,0]])\n",
    "print(Em)\n",
    "print(Em[0][0])"
   ]
  },
  {
   "cell_type": "code",
   "execution_count": 44,
   "metadata": {},
   "outputs": [
    {
     "name": "stdout",
     "output_type": "stream",
     "text": [
      "[[0.01487593 0.04414803 0.         0.        ]\n",
      " [0.04414803 0.13102027 0.         0.        ]\n",
      " [0.         0.         0.         0.        ]\n",
      " [0.         0.         0.         0.        ]]\n",
      "[[0.05902396 0.05902396 0.         0.        ]\n",
      " [0.1751683  0.1751683  0.         0.        ]\n",
      " [0.03594349 0.03594349 0.         0.        ]\n",
      " [0.10667125 0.10667125 0.         0.        ]]\n",
      "0.05902396256655498\n"
     ]
    }
   ],
   "source": [
    "Meas=np.dot(rho,Em)\n",
    "print(rho*Em)\n",
    "print(Meas)\n",
    "print(Meas[0][0])"
   ]
  },
  {
   "cell_type": "code",
   "execution_count": 45,
   "metadata": {},
   "outputs": [
    {
     "name": "stdout",
     "output_type": "stream",
     "text": [
      "0.23419226664364168\n"
     ]
    }
   ],
   "source": [
    "def prob(matrix,n):\n",
    "    prob=0\n",
    "    for i in range(0,n):\n",
    "        prob+=matrix[i][i]\n",
    "    return prob\n",
    "\n",
    "pro=prob(Meas,3)\n",
    "print(pro)"
   ]
  }
 ],
 "metadata": {
  "kernelspec": {
   "display_name": "Python 3",
   "language": "python",
   "name": "python3"
  },
  "language_info": {
   "codemirror_mode": {
    "name": "ipython",
    "version": 3
   },
   "file_extension": ".py",
   "mimetype": "text/x-python",
   "name": "python",
   "nbconvert_exporter": "python",
   "pygments_lexer": "ipython3",
   "version": "3.9.0"
  }
 },
 "nbformat": 4,
 "nbformat_minor": 4
}

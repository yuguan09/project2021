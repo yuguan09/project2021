{
 "cells": [
  {
   "cell_type": "code",
   "execution_count": 115,
   "metadata": {},
   "outputs": [
    {
     "name": "stdout",
     "output_type": "stream",
     "text": [
      "[0.94709014 0.3209677 ]\n",
      "[0.38013774 0.68030452 0.62664269]\n",
      "[0.3600247  0.6443097  0.59348712 0.12201194 0.21835578 0.20113207]\n",
      "1.0\n",
      "1.0\n",
      "0.9999999999999999\n"
     ]
    }
   ],
   "source": [
    "import numpy as np\n",
    "from numpy import linalg as LA\n",
    "import math \n",
    "import random\n",
    "\n",
    "\n",
    "#任意次元のベクトルを生成する関数\n",
    "#nは生成したい次元\n",
    "def qubit(n):\n",
    "    e=np.zeros(n,dtype='float64')\n",
    "    e[0]=random.random()\n",
    "    unf=1-e[0]\n",
    "    for i in range(1,n-1):\n",
    "        e[i]=random.uniform(0,unf)\n",
    "        unf=unf-e[i]\n",
    "    e[n-1]=unf\n",
    "    return e\n",
    "\n",
    "\n",
    "#ランダムなベクトルを規格化し、状態ベクトルになる．\n",
    "def normal(e):\n",
    "    n=e.size                                 #配列の次元を確認する関数\n",
    "    E=np.zeros(n,dtype='float64')\n",
    "    for i in range(0,n):\n",
    "        E[i]=np.sqrt(e[i])\n",
    "    return E\n",
    "\n",
    "\n",
    "#ベクトルの間のテンソル積\n",
    "def tensor(a,b):\n",
    "    n1=a.size\n",
    "    n2=b.size\n",
    "    P=np.zeros(n1*n2,dtype='float64')\n",
    "    for i in range(0,n1):\n",
    "        for j in range(0,n2):\n",
    "            P[i*n2+j]=a[i]*b[j]\n",
    "    return P\n",
    "\n",
    "#xはn1次元のベクトル、yはn2次元のベクトルとおく、zの次元はn1*n2である\n",
    "x=normal(qubit(2))\n",
    "y=normal(qubit(3))\n",
    "z=tensor(x,y)\n",
    "\n",
    "print(x)\n",
    "print(y)\n",
    "print(z)\n",
    "\n",
    "\n",
    "#ノルムの確認\n",
    "print(LA.norm(x,2))\n",
    "print(LA.norm(y,2))\n",
    "print(LA.norm(z,2))"
   ]
  }
 ],
 "metadata": {
  "kernelspec": {
   "display_name": "Python 3",
   "language": "python",
   "name": "python3"
  },
  "language_info": {
   "codemirror_mode": {
    "name": "ipython",
    "version": 3
   },
   "file_extension": ".py",
   "mimetype": "text/x-python",
   "name": "python",
   "nbconvert_exporter": "python",
   "pygments_lexer": "ipython3",
   "version": "3.9.0"
  }
 },
 "nbformat": 4,
 "nbformat_minor": 4
}

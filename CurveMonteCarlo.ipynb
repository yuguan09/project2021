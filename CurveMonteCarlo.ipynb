{
 "cells": [
  {
   "cell_type": "code",
   "execution_count": 35,
   "metadata": {},
   "outputs": [],
   "source": [
    "import numpy as np\n",
    "import random"
   ]
  },
  {
   "cell_type": "code",
   "execution_count": 45,
   "metadata": {},
   "outputs": [
    {
     "name": "stdout",
     "output_type": "stream",
     "text": [
      "[0.06675928 1.57089132 0.65172774 1.15965649 0.40129767 0.62529893\n",
      " 1.55457788 0.33559821 1.26434609 1.69446099]\n"
     ]
    }
   ],
   "source": [
    "E=np.zeros(10,dtype='float64')\n",
    "for i in range(0,10):\n",
    "    E[i]=random.uniform(0,2)\n",
    "print(E)"
   ]
  },
  {
   "cell_type": "code",
   "execution_count": 46,
   "metadata": {},
   "outputs": [
    {
     "name": "stdout",
     "output_type": "stream",
     "text": [
      "18.649229177159157\n"
     ]
    }
   ],
   "source": [
    "int=np.zeros(10,dtype='float64')\n",
    "sum=0\n",
    "for i in range(0,10):\n",
    "    int[i]=2*E[i]\n",
    "    sum+=int[i]\n",
    "    \n",
    "print(sum)"
   ]
  },
  {
   "cell_type": "code",
   "execution_count": 47,
   "metadata": {},
   "outputs": [
    {
     "name": "stdout",
     "output_type": "stream",
     "text": [
      "3.7298458354318313\n"
     ]
    }
   ],
   "source": [
    "ave=sum/10\n",
    "print(ave*2)"
   ]
  },
  {
   "cell_type": "code",
   "execution_count": 49,
   "metadata": {},
   "outputs": [
    {
     "name": "stdout",
     "output_type": "stream",
     "text": [
      "0.495681764323502\n"
     ]
    }
   ],
   "source": [
    "def variance(N,I):\n",
    "    sum=0\n",
    "    for i in range(0,N):\n",
    "        sum+=I[i]**2\n",
    "    avg1=sum/N\n",
    "    sum1=0\n",
    "    for i in range(0,N):\n",
    "        sum1+=I[i]\n",
    "    avg2=(sum1/N)**2\n",
    "    return (4/N)*(avg1-avg2)\n",
    "\n",
    "print(variance(10,int))\n",
    "    "
   ]
  },
  {
   "cell_type": "code",
   "execution_count": null,
   "metadata": {},
   "outputs": [],
   "source": []
  }
 ],
 "metadata": {
  "kernelspec": {
   "display_name": "Python 3",
   "language": "python",
   "name": "python3"
  },
  "language_info": {
   "codemirror_mode": {
    "name": "ipython",
    "version": 3
   },
   "file_extension": ".py",
   "mimetype": "text/x-python",
   "name": "python",
   "nbconvert_exporter": "python",
   "pygments_lexer": "ipython3",
   "version": "3.9.0"
  }
 },
 "nbformat": 4,
 "nbformat_minor": 2
}
